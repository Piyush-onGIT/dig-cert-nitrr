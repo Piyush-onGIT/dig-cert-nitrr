{
 "cells": [
  {
   "cell_type": "code",
   "execution_count": 1,
   "metadata": {},
   "outputs": [],
   "source": [
    "from PIL import Image, ImageDraw, ImageFont\n",
    "import cv2"
   ]
  },
  {
   "cell_type": "code",
   "execution_count": 7,
   "metadata": {},
   "outputs": [],
   "source": [
    "img = Image.open(\"/home/piyush/Downloads/cop.png\")\n",
    "draw = ImageDraw.Draw(img)\n",
    "font_size = 100\n",
    "image_width, image_height = img.size\n",
    "font_percentage = 0.03\n",
    "font_size = int(min(image_width, image_height) * font_percentage)\n",
    "font = ImageFont.truetype('OpenSans-BoldItalic.ttf',font_size)\n",
    "text = \"Your text here\"\n",
    "# x = (image_width) // 2\n",
    "# y = (image_height) // 2\n",
    "\n",
    "text_color = (0, 0, 0)\n",
    "draw.text((2052.7709202779724, 1000.16), text, fill=text_color, font=font,)\n",
    "img.save(\"results.png\")"
   ]
  },
  {
   "cell_type": "code",
   "execution_count": 7,
   "metadata": {},
   "outputs": [],
   "source": [
    "\n",
    "sign = cv2.imread(\"C:/Users/piyus/Downloads/Screenshot 2023-10-20 135219.png\")\n",
    "gray_sign = cv2.cvtColor(sign, cv2.COLOR_BGR2GRAY)\n",
    "ret,thresh = cv2.threshold(gray_sign, 0, 255, cv2.THRESH_OTSU)\n",
    "pil_thresh = Image.fromarray(thresh)\n",
    "rgba_thresh = pil_thresh.convert(\"RGBA\")\n",
    "datas = rgba_thresh.getdata()\n",
    "transparent_sign = []\n",
    "for item in datas:\n",
    "  if item[0] == 255 and item[1] == 255 and item[2] == 255:\n",
    "    transparent_sign.append((255, 255, 255, 0))\n",
    "  else:\n",
    "    transparent_sign.append(item)\n",
    "rgba_thresh.putdata(transparent_sign)\n",
    "rgba_thresh.save(\"transparent_image.png\", \"PNG\")"
   ]
  },
  {
   "cell_type": "code",
   "execution_count": 6,
   "metadata": {},
   "outputs": [],
   "source": [
    "source_image = Image.open('results.png')\n",
    "image_to_paste = Image.open('thresh_sign.jpeg')\n",
    "x, y = 100, 100\n",
    "\n",
    "source_image.paste(image_to_paste, (x, y))\n",
    "source_image.save('output.png')"
   ]
  },
  {
   "cell_type": "code",
   "execution_count": null,
   "metadata": {},
   "outputs": [],
   "source": [
    "img = Image.open(\"/home/piyush/Downloads/cop.png\")\n",
    "image_to_paste = Image.open('thresh_sign.jpeg')\n",
    "\n",
    "sign = cv2.imread(\"/home/piyush/Downloads/sign.jpeg\")\n",
    "gray_sign = cv2.cvtColor(sign, cv2.COLOR_BGR2GRAY)\n",
    "ret,thresh = cv2.threshold(gray_sign, 0, 255, cv2.THRESH_OTSU)\n",
    "cv2.resize(thresh, )\n",
    "pil_thresh = Image.fromarray(thresh)\n",
    "rgba_thresh = pil_thresh.convert(\"RGBA\")\n",
    "datas = rgba_thresh.getdata()\n",
    "transparent_sign = []\n",
    "for item in datas:\n",
    "  if item[0] == 255 and item[1] == 255 and item[2] == 255:\n",
    "    transparent_sign.append((255, 255, 255, 0))\n",
    "  else:\n",
    "    transparent_sign.append(item)\n",
    "rgba_thresh.putdata(transparent_sign)\n",
    "rgba_thresh.save(\"transparent_image.png\", \"PNG\")\n"
   ]
  }
 ],
 "metadata": {
  "kernelspec": {
   "display_name": "Python 3",
   "language": "python",
   "name": "python3"
  },
  "language_info": {
   "codemirror_mode": {
    "name": "ipython",
    "version": 3
   },
   "file_extension": ".py",
   "mimetype": "text/x-python",
   "name": "python",
   "nbconvert_exporter": "python",
   "pygments_lexer": "ipython3",
   "version": "3.11.5"
  }
 },
 "nbformat": 4,
 "nbformat_minor": 2
}
